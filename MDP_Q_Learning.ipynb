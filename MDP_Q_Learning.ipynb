{
  "nbformat": 4,
  "nbformat_minor": 0,
  "metadata": {
    "colab": {
      "name": "MDP-Q-Learning.ipynb",
      "provenance": [],
      "include_colab_link": true
    },
    "kernelspec": {
      "name": "python3",
      "display_name": "Python 3"
    }
  },
  "cells": [
    {
      "cell_type": "markdown",
      "metadata": {
        "id": "view-in-github",
        "colab_type": "text"
      },
      "source": [
        "<a href=\"https://colab.research.google.com/github/panda-sai/Frozen-Lake-MDP-Q-Learning/blob/master/MDP_Q_Learning.ipynb\" target=\"_parent\"><img src=\"https://colab.research.google.com/assets/colab-badge.svg\" alt=\"Open In Colab\"/></a>"
      ]
    },
    {
      "cell_type": "code",
      "metadata": {
        "id": "ch_KSjc-VVrL",
        "colab_type": "code",
        "colab": {}
      },
      "source": [
        "import numpy as np\n",
        "import gym\n",
        "import random\n",
        "import time\n",
        "from IPython.display import clear_output"
      ],
      "execution_count": 0,
      "outputs": []
    },
    {
      "cell_type": "code",
      "metadata": {
        "id": "SJdztVr8Vmrv",
        "colab_type": "code",
        "colab": {}
      },
      "source": [
        "env = gym.make(\"FrozenLake-v0\")"
      ],
      "execution_count": 0,
      "outputs": []
    },
    {
      "cell_type": "code",
      "metadata": {
        "id": "4376zU1qVt6s",
        "colab_type": "code",
        "colab": {}
      },
      "source": [
        "action_space_size = env.action_space.n\n",
        "state_space_size = env.observation_space.n\n",
        "\n",
        "q_table = np.zeros((state_space_size, action_space_size))"
      ],
      "execution_count": 0,
      "outputs": []
    },
    {
      "cell_type": "code",
      "metadata": {
        "id": "kQ5zHbt3XGk9",
        "colab_type": "code",
        "colab": {}
      },
      "source": [
        "num_episodes = 10000\n",
        "max_steps_per_episode = 100\n",
        "\n",
        "learning_rate = 0.1\n",
        "discount_rate = 0.99\n",
        "\n",
        "exploration_rate = 1\n",
        "max_exploration_rate = 1\n",
        "min_exploration_rate = 0.01\n",
        "exploration_decay_rate = 0.001"
      ],
      "execution_count": 0,
      "outputs": []
    },
    {
      "cell_type": "code",
      "metadata": {
        "id": "pJJfsuQVXO4w",
        "colab_type": "code",
        "colab": {}
      },
      "source": [
        "rewards_all_episodes = []"
      ],
      "execution_count": 0,
      "outputs": []
    },
    {
      "cell_type": "code",
      "metadata": {
        "id": "HHNJw8cBXXJz",
        "colab_type": "code",
        "outputId": "7e0181d3-4834-44bc-db81-924eb3dee53e",
        "colab": {
          "base_uri": "https://localhost:8080/",
          "height": 561
        }
      },
      "source": [
        "for episode in range(num_episodes):\n",
        "    state = env.reset()\n",
        "    done = False\n",
        "    rewards_current_episode = 0\n",
        "    \n",
        "    for step in range(max_steps_per_episode): \n",
        "      exploration_rate_threshold = random.uniform(0, 1)\n",
        "      \n",
        "      if exploration_rate_threshold > exploration_rate:\n",
        "          action = np.argmax(q_table[state,:]) \n",
        "      else:\n",
        "          action = env.action_space.sample()\n",
        "\n",
        "      new_state, reward, done, info = env.step(action)\n",
        "\n",
        "      q_table[state, action] = q_table[state, action] * (1 - learning_rate) + \\\n",
        "      learning_rate * (reward + discount_rate * np.max(q_table[new_state, :]))\n",
        "\n",
        "      state = new_state\n",
        "      rewards_current_episode += reward \n",
        "\n",
        "      if done == True: \n",
        "          break\n",
        "\n",
        "    exploration_rate = min_exploration_rate + \\\n",
        "    (max_exploration_rate - min_exploration_rate) * np.exp(-exploration_decay_rate*episode)\n",
        "\n",
        "rewards_all_episodes.append(rewards_current_episode)\n",
        "\n",
        "\n",
        "rewards_per_thosand_episodes = np.array_split(np.array(rewards_all_episodes),num_episodes/1000)\n",
        "count = 1000\n",
        "\n",
        "print(\"\\n\\n********Q-table********\\n\")\n",
        "print(q_table)"
      ],
      "execution_count": 0,
      "outputs": [
        {
          "output_type": "stream",
          "text": [
            "********Average reward per thousand episodes********\n",
            "\n",
            "1000 :  0.0\n",
            "2000 :  0\n",
            "3000 :  0\n",
            "4000 :  0\n",
            "5000 :  0\n",
            "6000 :  0\n",
            "7000 :  0\n",
            "8000 :  0\n",
            "9000 :  0\n",
            "10000 :  0\n",
            "\n",
            "\n",
            "********Q-table********\n",
            "\n",
            "[[0.52268351 0.47199181 0.47234859 0.47563403]\n",
            " [0.35073003 0.37317467 0.26942546 0.49219355]\n",
            " [0.42429882 0.42133148 0.3993117  0.44933672]\n",
            " [0.32695072 0.27763493 0.27472008 0.42564689]\n",
            " [0.53707741 0.27345441 0.42655116 0.42059241]\n",
            " [0.         0.         0.         0.        ]\n",
            " [0.34791409 0.15895519 0.14882198 0.1114073 ]\n",
            " [0.         0.         0.         0.        ]\n",
            " [0.36685078 0.34492494 0.37836126 0.57883491]\n",
            " [0.50608878 0.6276847  0.51287487 0.43674296]\n",
            " [0.55969084 0.37780814 0.41679647 0.32423429]\n",
            " [0.         0.         0.         0.        ]\n",
            " [0.         0.         0.         0.        ]\n",
            " [0.46579737 0.54948529 0.75372079 0.64648256]\n",
            " [0.72174012 0.89275124 0.75252814 0.77487332]\n",
            " [0.         0.         0.         0.        ]]\n"
          ],
          "name": "stdout"
        }
      ]
    },
    {
      "cell_type": "code",
      "metadata": {
        "id": "MWHWdOsPcK2x",
        "colab_type": "code",
        "outputId": "4f53ba29-3570-40da-bef4-928477c43f7d",
        "colab": {
          "base_uri": "https://localhost:8080/",
          "height": 119
        }
      },
      "source": [
        "# Watch our agent play Frozen Lake by playing the best action \n",
        "# from each state according to the Q-table\n",
        "\n",
        "for episode in range(3):\n",
        "    state = env.reset()\n",
        "    done = False\n",
        "    print(\"*****EPISODE \", episode+1, \"*****\\n\\n\\n\\n\")\n",
        "    time.sleep(1)\n",
        "\n",
        "    for step in range(max_steps_per_episode):        \n",
        "        clear_output(wait=True)\n",
        "        env.render()\n",
        "        time.sleep(0.3)\n",
        "\n",
        "        action = np.argmax(q_table[state,:])        \n",
        "        new_state, reward, done, info = env.step(action)\n",
        "        \n",
        "        if done:\n",
        "            clear_output(wait=True)\n",
        "            env.render()\n",
        "            if reward == 1:\n",
        "                print(\"****You reached the goal!****\")\n",
        "                time.sleep(3)\n",
        "            else:\n",
        "                print(\"****You fell through a hole!****\")\n",
        "                time.sleep(3)\n",
        "            clear_output(wait=True)\n",
        "            break            \n",
        "            \n",
        "        state = new_state\n",
        "        \n",
        "env.close()"
      ],
      "execution_count": 0,
      "outputs": [
        {
          "output_type": "stream",
          "text": [
            "  (Down)\n",
            "SFFF\n",
            "FHFH\n",
            "FFFH\n",
            "HFF\u001b[41mG\u001b[0m\n",
            "****You reached the goal!****\n"
          ],
          "name": "stdout"
        }
      ]
    }
  ]
}